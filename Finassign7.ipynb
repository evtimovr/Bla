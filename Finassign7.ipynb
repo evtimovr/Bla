{
  "nbformat": 4,
  "nbformat_minor": 0,
  "metadata": {
    "colab": {
      "name": "Finassign.ipynb",
      "version": "0.3.2",
      "provenance": [],
      "collapsed_sections": [],
      "include_colab_link": true
    },
    "kernelspec": {
      "name": "python3",
      "display_name": "Python 3"
    },
    "accelerator": "GPU"
  },
  "cells": [
    {
      "cell_type": "markdown",
      "metadata": {
        "id": "view-in-github",
        "colab_type": "text"
      },
      "source": [
        "<a href=\"https://colab.research.google.com/github/evtimovr/Bla/blob/master/Finassign7.ipynb\" target=\"_parent\"><img src=\"https://colab.research.google.com/assets/colab-badge.svg\" alt=\"Open In Colab\"/></a>"
      ]
    },
    {
      "cell_type": "code",
      "metadata": {
        "id": "5mHoCVALzwae",
        "colab_type": "code",
        "outputId": "5f7835a3-33b7-4f1b-b21e-700bb6337fd5",
        "colab": {
          "base_uri": "https://localhost:8080/",
          "height": 34
        }
      },
      "source": [
        "from google.colab import drive\n",
        "drive.mount('/content/drive')"
      ],
      "execution_count": 1,
      "outputs": [
        {
          "output_type": "stream",
          "text": [
            "Drive already mounted at /content/drive; to attempt to forcibly remount, call drive.mount(\"/content/drive\", force_remount=True).\n"
          ],
          "name": "stdout"
        }
      ]
    },
    {
      "cell_type": "code",
      "metadata": {
        "id": "ykS0pvUUwAOs",
        "colab_type": "code",
        "outputId": "46e78a54-241b-4aa6-d3d0-20ac075b10ce",
        "colab": {
          "base_uri": "https://localhost:8080/",
          "height": 385
        }
      },
      "source": [
        "from PIL import Image # library 'pillow' for image processing\n",
        "import os, os.path\n",
        "import glob\n",
        "from os.path import basename\n",
        "import re\n",
        "regex=r'[a-zA-Z_]+(?=_\\d)'\n",
        "\n",
        "image_list = []\n",
        "image_label=[]\n",
        "for filename in glob.glob('/content/drive/My Drive/Final assignment/training/*/*.jpg'): #assuming jpg\n",
        "    im=Image.open(filename)\n",
        "    name=re.findall(regex,filename)\n",
        "    image_label.append(name)\n",
        "    image_list.append(im)"
      ],
      "execution_count": 0,
      "outputs": [
        {
          "output_type": "error",
          "ename": "KeyboardInterrupt",
          "evalue": "ignored",
          "traceback": [
            "\u001b[0;31m---------------------------------------------------------------------------\u001b[0m",
            "\u001b[0;31mKeyboardInterrupt\u001b[0m                         Traceback (most recent call last)",
            "\u001b[0;32m<ipython-input-2-79156e9585a1>\u001b[0m in \u001b[0;36m<module>\u001b[0;34m()\u001b[0m\n\u001b[1;32m      8\u001b[0m \u001b[0mimage_list\u001b[0m \u001b[0;34m=\u001b[0m \u001b[0;34m[\u001b[0m\u001b[0;34m]\u001b[0m\u001b[0;34m\u001b[0m\u001b[0;34m\u001b[0m\u001b[0m\n\u001b[1;32m      9\u001b[0m \u001b[0mimage_label\u001b[0m\u001b[0;34m=\u001b[0m\u001b[0;34m[\u001b[0m\u001b[0;34m]\u001b[0m\u001b[0;34m\u001b[0m\u001b[0;34m\u001b[0m\u001b[0m\n\u001b[0;32m---> 10\u001b[0;31m \u001b[0;32mfor\u001b[0m \u001b[0mfilename\u001b[0m \u001b[0;32min\u001b[0m \u001b[0mglob\u001b[0m\u001b[0;34m.\u001b[0m\u001b[0mglob\u001b[0m\u001b[0;34m(\u001b[0m\u001b[0;34m'/content/drive/My Drive/Final assignment/training/*/*.jpg'\u001b[0m\u001b[0;34m)\u001b[0m\u001b[0;34m:\u001b[0m \u001b[0;31m#assuming jpg\u001b[0m\u001b[0;34m\u001b[0m\u001b[0;34m\u001b[0m\u001b[0m\n\u001b[0m\u001b[1;32m     11\u001b[0m     \u001b[0mim\u001b[0m\u001b[0;34m=\u001b[0m\u001b[0mImage\u001b[0m\u001b[0;34m.\u001b[0m\u001b[0mopen\u001b[0m\u001b[0;34m(\u001b[0m\u001b[0mfilename\u001b[0m\u001b[0;34m)\u001b[0m\u001b[0;34m\u001b[0m\u001b[0;34m\u001b[0m\u001b[0m\n\u001b[1;32m     12\u001b[0m     \u001b[0mname\u001b[0m\u001b[0;34m=\u001b[0m\u001b[0mre\u001b[0m\u001b[0;34m.\u001b[0m\u001b[0mfindall\u001b[0m\u001b[0;34m(\u001b[0m\u001b[0mregex\u001b[0m\u001b[0;34m,\u001b[0m\u001b[0mfilename\u001b[0m\u001b[0;34m)\u001b[0m\u001b[0;34m\u001b[0m\u001b[0;34m\u001b[0m\u001b[0m\n",
            "\u001b[0;32m/usr/lib/python3.6/glob.py\u001b[0m in \u001b[0;36mglob\u001b[0;34m(pathname, recursive)\u001b[0m\n\u001b[1;32m     18\u001b[0m     \u001b[0mzero\u001b[0m \u001b[0;32mor\u001b[0m \u001b[0mmore\u001b[0m \u001b[0mdirectories\u001b[0m \u001b[0;32mand\u001b[0m \u001b[0msubdirectories\u001b[0m\u001b[0;34m.\u001b[0m\u001b[0;34m\u001b[0m\u001b[0;34m\u001b[0m\u001b[0m\n\u001b[1;32m     19\u001b[0m     \"\"\"\n\u001b[0;32m---> 20\u001b[0;31m     \u001b[0;32mreturn\u001b[0m \u001b[0mlist\u001b[0m\u001b[0;34m(\u001b[0m\u001b[0miglob\u001b[0m\u001b[0;34m(\u001b[0m\u001b[0mpathname\u001b[0m\u001b[0;34m,\u001b[0m \u001b[0mrecursive\u001b[0m\u001b[0;34m=\u001b[0m\u001b[0mrecursive\u001b[0m\u001b[0;34m)\u001b[0m\u001b[0;34m)\u001b[0m\u001b[0;34m\u001b[0m\u001b[0;34m\u001b[0m\u001b[0m\n\u001b[0m\u001b[1;32m     21\u001b[0m \u001b[0;34m\u001b[0m\u001b[0m\n\u001b[1;32m     22\u001b[0m \u001b[0;32mdef\u001b[0m \u001b[0miglob\u001b[0m\u001b[0;34m(\u001b[0m\u001b[0mpathname\u001b[0m\u001b[0;34m,\u001b[0m \u001b[0;34m*\u001b[0m\u001b[0;34m,\u001b[0m \u001b[0mrecursive\u001b[0m\u001b[0;34m=\u001b[0m\u001b[0;32mFalse\u001b[0m\u001b[0;34m)\u001b[0m\u001b[0;34m:\u001b[0m\u001b[0;34m\u001b[0m\u001b[0;34m\u001b[0m\u001b[0m\n",
            "\u001b[0;32m/usr/lib/python3.6/glob.py\u001b[0m in \u001b[0;36m_iglob\u001b[0;34m(pathname, recursive, dironly)\u001b[0m\n\u001b[1;32m     70\u001b[0m         \u001b[0mglob_in_dir\u001b[0m \u001b[0;34m=\u001b[0m \u001b[0m_glob0\u001b[0m\u001b[0;34m\u001b[0m\u001b[0;34m\u001b[0m\u001b[0m\n\u001b[1;32m     71\u001b[0m     \u001b[0;32mfor\u001b[0m \u001b[0mdirname\u001b[0m \u001b[0;32min\u001b[0m \u001b[0mdirs\u001b[0m\u001b[0;34m:\u001b[0m\u001b[0;34m\u001b[0m\u001b[0;34m\u001b[0m\u001b[0m\n\u001b[0;32m---> 72\u001b[0;31m         \u001b[0;32mfor\u001b[0m \u001b[0mname\u001b[0m \u001b[0;32min\u001b[0m \u001b[0mglob_in_dir\u001b[0m\u001b[0;34m(\u001b[0m\u001b[0mdirname\u001b[0m\u001b[0;34m,\u001b[0m \u001b[0mbasename\u001b[0m\u001b[0;34m,\u001b[0m \u001b[0mdironly\u001b[0m\u001b[0;34m)\u001b[0m\u001b[0;34m:\u001b[0m\u001b[0;34m\u001b[0m\u001b[0;34m\u001b[0m\u001b[0m\n\u001b[0m\u001b[1;32m     73\u001b[0m             \u001b[0;32myield\u001b[0m \u001b[0mos\u001b[0m\u001b[0;34m.\u001b[0m\u001b[0mpath\u001b[0m\u001b[0;34m.\u001b[0m\u001b[0mjoin\u001b[0m\u001b[0;34m(\u001b[0m\u001b[0mdirname\u001b[0m\u001b[0;34m,\u001b[0m \u001b[0mname\u001b[0m\u001b[0;34m)\u001b[0m\u001b[0;34m\u001b[0m\u001b[0;34m\u001b[0m\u001b[0m\n\u001b[1;32m     74\u001b[0m \u001b[0;34m\u001b[0m\u001b[0m\n",
            "\u001b[0;32m/usr/lib/python3.6/glob.py\u001b[0m in \u001b[0;36m_glob1\u001b[0;34m(dirname, pattern, dironly)\u001b[0m\n\u001b[1;32m     78\u001b[0m \u001b[0;34m\u001b[0m\u001b[0m\n\u001b[1;32m     79\u001b[0m \u001b[0;32mdef\u001b[0m \u001b[0m_glob1\u001b[0m\u001b[0;34m(\u001b[0m\u001b[0mdirname\u001b[0m\u001b[0;34m,\u001b[0m \u001b[0mpattern\u001b[0m\u001b[0;34m,\u001b[0m \u001b[0mdironly\u001b[0m\u001b[0;34m)\u001b[0m\u001b[0;34m:\u001b[0m\u001b[0;34m\u001b[0m\u001b[0;34m\u001b[0m\u001b[0m\n\u001b[0;32m---> 80\u001b[0;31m     \u001b[0mnames\u001b[0m \u001b[0;34m=\u001b[0m \u001b[0mlist\u001b[0m\u001b[0;34m(\u001b[0m\u001b[0m_iterdir\u001b[0m\u001b[0;34m(\u001b[0m\u001b[0mdirname\u001b[0m\u001b[0;34m,\u001b[0m \u001b[0mdironly\u001b[0m\u001b[0;34m)\u001b[0m\u001b[0;34m)\u001b[0m\u001b[0;34m\u001b[0m\u001b[0;34m\u001b[0m\u001b[0m\n\u001b[0m\u001b[1;32m     81\u001b[0m     \u001b[0;32mif\u001b[0m \u001b[0;32mnot\u001b[0m \u001b[0m_ishidden\u001b[0m\u001b[0;34m(\u001b[0m\u001b[0mpattern\u001b[0m\u001b[0;34m)\u001b[0m\u001b[0;34m:\u001b[0m\u001b[0;34m\u001b[0m\u001b[0;34m\u001b[0m\u001b[0m\n\u001b[1;32m     82\u001b[0m         \u001b[0mnames\u001b[0m \u001b[0;34m=\u001b[0m \u001b[0;34m(\u001b[0m\u001b[0mx\u001b[0m \u001b[0;32mfor\u001b[0m \u001b[0mx\u001b[0m \u001b[0;32min\u001b[0m \u001b[0mnames\u001b[0m \u001b[0;32mif\u001b[0m \u001b[0;32mnot\u001b[0m \u001b[0m_ishidden\u001b[0m\u001b[0;34m(\u001b[0m\u001b[0mx\u001b[0m\u001b[0;34m)\u001b[0m\u001b[0;34m)\u001b[0m\u001b[0;34m\u001b[0m\u001b[0;34m\u001b[0m\u001b[0m\n",
            "\u001b[0;32m/usr/lib/python3.6/glob.py\u001b[0m in \u001b[0;36m_iterdir\u001b[0;34m(dirname, dironly)\u001b[0m\n\u001b[1;32m    119\u001b[0m             \u001b[0mdirname\u001b[0m \u001b[0;34m=\u001b[0m \u001b[0mos\u001b[0m\u001b[0;34m.\u001b[0m\u001b[0mcurdir\u001b[0m\u001b[0;34m\u001b[0m\u001b[0;34m\u001b[0m\u001b[0m\n\u001b[1;32m    120\u001b[0m     \u001b[0;32mtry\u001b[0m\u001b[0;34m:\u001b[0m\u001b[0;34m\u001b[0m\u001b[0;34m\u001b[0m\u001b[0m\n\u001b[0;32m--> 121\u001b[0;31m         \u001b[0;32mwith\u001b[0m \u001b[0mos\u001b[0m\u001b[0;34m.\u001b[0m\u001b[0mscandir\u001b[0m\u001b[0;34m(\u001b[0m\u001b[0mdirname\u001b[0m\u001b[0;34m)\u001b[0m \u001b[0;32mas\u001b[0m \u001b[0mit\u001b[0m\u001b[0;34m:\u001b[0m\u001b[0;34m\u001b[0m\u001b[0;34m\u001b[0m\u001b[0m\n\u001b[0m\u001b[1;32m    122\u001b[0m             \u001b[0;32mfor\u001b[0m \u001b[0mentry\u001b[0m \u001b[0;32min\u001b[0m \u001b[0mit\u001b[0m\u001b[0;34m:\u001b[0m\u001b[0;34m\u001b[0m\u001b[0;34m\u001b[0m\u001b[0m\n\u001b[1;32m    123\u001b[0m                 \u001b[0;32mtry\u001b[0m\u001b[0;34m:\u001b[0m\u001b[0;34m\u001b[0m\u001b[0;34m\u001b[0m\u001b[0m\n",
            "\u001b[0;31mKeyboardInterrupt\u001b[0m: "
          ]
        }
      ]
    },
    {
      "cell_type": "code",
      "metadata": {
        "id": "YRrW8qi2XQHS",
        "colab_type": "code",
        "colab": {}
      },
      "source": [
        "from PIL import Image # library 'pillow' for image processing\n",
        "import os, os.path\n",
        "import glob\n",
        "from os.path import basename\n",
        "import re"
      ],
      "execution_count": 0,
      "outputs": []
    },
    {
      "cell_type": "code",
      "metadata": {
        "id": "_UMDw15tDqLl",
        "colab_type": "code",
        "outputId": "c0a81205-236d-4b4b-eb95-773533d0a121",
        "colab": {
          "base_uri": "https://localhost:8080/",
          "height": 167
        }
      },
      "source": [
        "image_label[100]"
      ],
      "execution_count": 0,
      "outputs": [
        {
          "output_type": "error",
          "ename": "NameError",
          "evalue": "ignored",
          "traceback": [
            "\u001b[0;31m---------------------------------------------------------------------------\u001b[0m",
            "\u001b[0;31mNameError\u001b[0m                                 Traceback (most recent call last)",
            "\u001b[0;32m<ipython-input-2-40ce731b85ff>\u001b[0m in \u001b[0;36m<module>\u001b[0;34m()\u001b[0m\n\u001b[0;32m----> 1\u001b[0;31m \u001b[0mimage_label\u001b[0m\u001b[0;34m[\u001b[0m\u001b[0;36m100\u001b[0m\u001b[0;34m]\u001b[0m\u001b[0;34m\u001b[0m\u001b[0;34m\u001b[0m\u001b[0m\n\u001b[0m",
            "\u001b[0;31mNameError\u001b[0m: name 'image_label' is not defined"
          ]
        }
      ]
    },
    {
      "cell_type": "code",
      "metadata": {
        "id": "qfGh7C6U3mMr",
        "colab_type": "code",
        "colab": {}
      },
      "source": [
        "\n",
        "    \n",
        "for n, i in enumerate(image_label):\n",
        "     if i == ['easy']:\n",
        "         image_label[n] = ['fake']\n",
        "        \n",
        "for n, i in enumerate(image_label):\n",
        "     if i == ['hard']:\n",
        "         image_label[n] = ['fake']\n",
        "        \n",
        "for n, i in enumerate(image_label):\n",
        "     if i == ['mid']:\n",
        "         image_label[n] = ['fake']"
      ],
      "execution_count": 0,
      "outputs": []
    },
    {
      "cell_type": "code",
      "metadata": {
        "id": "4NjjNqqDbi9y",
        "colab_type": "code",
        "outputId": "e7a9f1ea-45fe-48df-e9c6-24059f89b120",
        "colab": {
          "base_uri": "https://localhost:8080/",
          "height": 34
        }
      },
      "source": [
        "len(image_list)"
      ],
      "execution_count": 0,
      "outputs": [
        {
          "output_type": "execute_result",
          "data": {
            "text/plain": [
              "1354"
            ]
          },
          "metadata": {
            "tags": []
          },
          "execution_count": 5
        }
      ]
    },
    {
      "cell_type": "markdown",
      "metadata": {
        "id": "emEOjpmKi1V1",
        "colab_type": "text"
      },
      "source": [
        "!!!Show you know what the sizes are"
      ]
    },
    {
      "cell_type": "code",
      "metadata": {
        "id": "-ndA-4i-dTKR",
        "colab_type": "code",
        "outputId": "6e2e918b-1dbe-4599-c1a0-c343e765b5d7",
        "colab": {
          "base_uri": "https://localhost:8080/",
          "height": 52
        }
      },
      "source": [
        "print(sum(x == ['fake'] for x in image_label))\n",
        "print(sum(x == ['real'] for x in image_label))\n",
        "\n"
      ],
      "execution_count": 0,
      "outputs": [
        {
          "output_type": "stream",
          "text": [
            "463\n",
            "891\n"
          ],
          "name": "stdout"
        }
      ]
    },
    {
      "cell_type": "code",
      "metadata": {
        "id": "3nMSgHTsxRrt",
        "colab_type": "code",
        "colab": {}
      },
      "source": [
        "from keras.preprocessing.image import ImageDataGenerator \n",
        "sqrt_dim=40\n",
        "train_batch_size=20\n",
        "input_shape=(sqrt_dim, sqrt_dim, 3)\n",
        "\n",
        "train_generator = ImageDataGenerator(rescale = 1./255, \n",
        "                                   shear_range = 0.1, \n",
        "                                   zoom_range = 0.1,\n",
        "                                   horizontal_flip = False) "
      ],
      "execution_count": 0,
      "outputs": []
    },
    {
      "cell_type": "code",
      "metadata": {
        "id": "HKjC28t80QXp",
        "colab_type": "code",
        "outputId": "bd072339-a4ba-4236-9041-aaad0a50050f",
        "colab": {
          "base_uri": "https://localhost:8080/",
          "height": 34
        }
      },
      "source": [
        "\n",
        "test_generator = ImageDataGenerator(rescale = 1./255) # only rescaling with fixed parameters is valid, otherwise do not touch the test set! \n",
        "\n",
        "trainset = train_generator.flow_from_directory('/content/drive/My Drive/Final assignment/train', # specify the directory (you can right click on the folder you need and copy the path)\n",
        "                                                 target_size = (sqrt_dim, sqrt_dim), # you need to check your data,\n",
        "                                                 batch_size = train_batch_size, # batch size = 5 here just for show!\n",
        "                                                 class_mode= 'categorical')\n",
        "\n",
        "\n",
        "\n"
      ],
      "execution_count": 23,
      "outputs": [
        {
          "output_type": "stream",
          "text": [
            "Found 725 images belonging to 2 classes.\n"
          ],
          "name": "stdout"
        }
      ]
    },
    {
      "cell_type": "code",
      "metadata": {
        "id": "z9VuJcgN3oBq",
        "colab_type": "code",
        "outputId": "1a40645f-ef46-41e1-b675-a562485a90ce",
        "colab": {
          "base_uri": "https://localhost:8080/",
          "height": 34
        }
      },
      "source": [
        "validationset = test_generator.flow_from_directory('/content/drive/My Drive/Final assignment/validation', # specify the directory (you can right click on the folder you need and copy the path)\n",
        "                                                 target_size = (sqrt_dim, sqrt_dim), # you need to check your data,\n",
        "                                                 batch_size = train_batch_size, # batch size = 5 here just for show!\n",
        "                                                 class_mode= 'categorical')"
      ],
      "execution_count": 24,
      "outputs": [
        {
          "output_type": "stream",
          "text": [
            "Found 200 images belonging to 2 classes.\n"
          ],
          "name": "stdout"
        }
      ]
    },
    {
      "cell_type": "code",
      "metadata": {
        "id": "iGR4fptK0oDz",
        "colab_type": "code",
        "outputId": "21c771dd-f8fe-4ba0-8199-a99ba473a5fc",
        "colab": {
          "base_uri": "https://localhost:8080/",
          "height": 34
        }
      },
      "source": [
        "trainset.class_indices"
      ],
      "execution_count": 25,
      "outputs": [
        {
          "output_type": "execute_result",
          "data": {
            "text/plain": [
              "{'fake': 0, 'real': 1}"
            ]
          },
          "metadata": {
            "tags": []
          },
          "execution_count": 25
        }
      ]
    },
    {
      "cell_type": "code",
      "metadata": {
        "id": "5Q4WlGad2oDP",
        "colab_type": "code",
        "outputId": "6c09bdee-e9f6-4ca8-97ab-c4d2c12eec97",
        "colab": {
          "base_uri": "https://localhost:8080/",
          "height": 34
        }
      },
      "source": [
        "n_train_samples = len(trainset.filenames)\n",
        "n_classes = len(trainset.class_indices)\n",
        "print(n_train_samples, n_classes)"
      ],
      "execution_count": 26,
      "outputs": [
        {
          "output_type": "stream",
          "text": [
            "725 2\n"
          ],
          "name": "stdout"
        }
      ]
    },
    {
      "cell_type": "markdown",
      "metadata": {
        "id": "tRDCNKYy4KPw",
        "colab_type": "text"
      },
      "source": [
        "**CNN Start**"
      ]
    },
    {
      "cell_type": "code",
      "metadata": {
        "id": "WyG4wEx35EGK",
        "colab_type": "code",
        "colab": {}
      },
      "source": [
        "from keras.models import Sequential\n",
        "from keras.layers.core import Dense, Dropout, Activation, Flatten, Dropout # converting pooled feature maps into a large feature vector to prepare for input into the Dense layer\n",
        "from keras.layers import Conv2D # first convolution step, 3D for videos\n",
        "from keras.layers import MaxPooling2D #pooling, downsampling\n",
        "\n",
        "model = Sequential() #initialize\n",
        "model.add(Conv2D(64, #number of filters/feature detectors, number of feature maps you will end up with. Starting with 32 is good practice, grow it if needed and if you have enough computing power\n",
        "                 kernel_size=(3, 3), # size of filters (rows,columns), (3,3) is also a popular choice, it's a hyperparameter to choose\n",
        "                 activation='relu', # removes the negative pixels, introducing non-linearity, \n",
        "                 #we are skipping \"border mode\" - it is set to \"same\" by default\n",
        "                 # strides=(2,2) how the window shifts by in each of the dimensions. Default stride is 1 but we will go for 2 for faster implementation by reducing the image size similar to pooling\n",
        "                 input_shape=input_shape)) # (3 if color/1 if b&w, height, width), all images have to come in a single format\n",
        "model.add(MaxPooling2D(pool_size=(2, 2), #the size of the pooled feature map\n",
        "                       strides=None)) # default: pool_size, here: (2,2)\n",
        "model.add(Conv2D(128, (3, 3), activation='relu'))\n",
        "model.add(MaxPooling2D(pool_size=(2, 2)))\n",
        "model.add(Dropout(0.5))\n",
        "\n",
        "model.add(Conv2D(128, (3, 3), activation='relu',padding = 'same'))\n",
        "model.add(MaxPooling2D(pool_size=(2, 2)))\n",
        "model.add(Dropout(0.5))\n",
        "\n",
        "\n",
        "model.add(Conv2D(16, (1, 1), activation='relu'))\n",
        "model.add(Dropout(0.5))\n",
        "model.add(Flatten())\n",
        "model.add(Dense(128, activation='relu')) # that's our classifier bit, th size is up to you, choose wisely taking the size of picture in mind (smth between nuber of input and number of output nodes could be another rule of thumb)\n",
        "model.add(Dropout(0.5))\n",
        "model.add(Dense(n_classes, activation='softmax')) "
      ],
      "execution_count": 0,
      "outputs": []
    },
    {
      "cell_type": "code",
      "metadata": {
        "id": "YCf7bkFA7BV2",
        "colab_type": "code",
        "outputId": "46ae8475-b039-4194-c789-c3db2c8c2e51",
        "colab": {
          "base_uri": "https://localhost:8080/",
          "height": 633
        }
      },
      "source": [
        "model.compile(optimizer='adam', loss='binary_crossentropy', metrics=['accuracy'])\n",
        "model.summary()"
      ],
      "execution_count": 42,
      "outputs": [
        {
          "output_type": "stream",
          "text": [
            "_________________________________________________________________\n",
            "Layer (type)                 Output Shape              Param #   \n",
            "=================================================================\n",
            "conv2d_29 (Conv2D)           (None, 38, 38, 64)        1792      \n",
            "_________________________________________________________________\n",
            "max_pooling2d_22 (MaxPooling (None, 19, 19, 64)        0         \n",
            "_________________________________________________________________\n",
            "conv2d_30 (Conv2D)           (None, 17, 17, 128)       73856     \n",
            "_________________________________________________________________\n",
            "max_pooling2d_23 (MaxPooling (None, 8, 8, 128)         0         \n",
            "_________________________________________________________________\n",
            "dropout_26 (Dropout)         (None, 8, 8, 128)         0         \n",
            "_________________________________________________________________\n",
            "conv2d_31 (Conv2D)           (None, 8, 8, 128)         147584    \n",
            "_________________________________________________________________\n",
            "max_pooling2d_24 (MaxPooling (None, 4, 4, 128)         0         \n",
            "_________________________________________________________________\n",
            "dropout_27 (Dropout)         (None, 4, 4, 128)         0         \n",
            "_________________________________________________________________\n",
            "conv2d_32 (Conv2D)           (None, 4, 4, 16)          2064      \n",
            "_________________________________________________________________\n",
            "dropout_28 (Dropout)         (None, 4, 4, 16)          0         \n",
            "_________________________________________________________________\n",
            "flatten_8 (Flatten)          (None, 256)               0         \n",
            "_________________________________________________________________\n",
            "dense_15 (Dense)             (None, 128)               32896     \n",
            "_________________________________________________________________\n",
            "dropout_29 (Dropout)         (None, 128)               0         \n",
            "_________________________________________________________________\n",
            "dense_16 (Dense)             (None, 2)                 258       \n",
            "=================================================================\n",
            "Total params: 258,450\n",
            "Trainable params: 258,450\n",
            "Non-trainable params: 0\n",
            "_________________________________________________________________\n"
          ],
          "name": "stdout"
        }
      ]
    },
    {
      "cell_type": "code",
      "metadata": {
        "id": "_O58l84h7qpp",
        "colab_type": "code",
        "colab": {}
      },
      "source": [
        "max_epochs = 40"
      ],
      "execution_count": 0,
      "outputs": []
    },
    {
      "cell_type": "code",
      "metadata": {
        "id": "gaZiMychAlre",
        "colab_type": "code",
        "outputId": "956fdccc-7d51-47af-abac-5afff69694ef",
        "colab": {
          "base_uri": "https://localhost:8080/",
          "height": 52
        }
      },
      "source": [
        "import tensorflow as tf\n",
        "class AccuracyCallback(tf.keras.callbacks.Callback):\n",
        "    \"\"\"Callback that stops training on requested accuracy.\"\"\"\n",
        "    def __init__(self, target_accuracy=0.997):\n",
        "        self.target_accuracy = target_accuracy\n",
        "    def on_epoch_end(self, epoch, logs):\n",
        "        if logs.get('val_acc') >= self.target_accuracy:\n",
        "            print(\"Target validation accuracy (%f) reached !\" % self.target_accuracy )\n",
        "            self.model.stop_training = True\n",
        "            \n",
        "target_accuracy = 0.62\n",
        "max_epochs = 40\n",
        "print(\"\\nTraining untill accuracy reaches %s or for %i epochs\" %(target_accuracy, max_epochs))"
      ],
      "execution_count": 43,
      "outputs": [
        {
          "output_type": "stream",
          "text": [
            "\n",
            "Training untill accuracy reaches 0.62 or for 40 epochs\n"
          ],
          "name": "stdout"
        }
      ]
    },
    {
      "cell_type": "code",
      "metadata": {
        "id": "o1fdmX1K7iJ4",
        "colab_type": "code",
        "outputId": "05c515f6-df64-4d8e-c5b5-bb4ec53ee575",
        "colab": {
          "base_uri": "https://localhost:8080/",
          "height": 598
        }
      },
      "source": [
        "history=model.fit_generator(trainset,\n",
        "                    steps_per_epoch= 400,# number of times generator will be used,that's how we control for the number of generated images, overall size of set divided by the batch size to make sure everything gets used\n",
        "                    validation_data=validationset,\n",
        "                    validation_steps= 10, # 340/2\n",
        "                    epochs=25,\n",
        "                    callbacks=[AccuracyCallback(target_accuracy)]\n",
        ")"
      ],
      "execution_count": 44,
      "outputs": [
        {
          "output_type": "stream",
          "text": [
            "Epoch 1/25\n",
            "400/400 [==============================] - 107s 269ms/step - loss: 0.6960 - acc: 0.4940 - val_loss: 0.6929 - val_acc: 0.5000\n",
            "Epoch 2/25\n",
            "400/400 [==============================] - 107s 267ms/step - loss: 0.6934 - acc: 0.5098 - val_loss: 0.6913 - val_acc: 0.5550\n",
            "Epoch 3/25\n",
            "400/400 [==============================] - 108s 269ms/step - loss: 0.6941 - acc: 0.4898 - val_loss: 0.6922 - val_acc: 0.5150\n",
            "Epoch 4/25\n",
            "400/400 [==============================] - 107s 269ms/step - loss: 0.6934 - acc: 0.5136 - val_loss: 0.6934 - val_acc: 0.4800\n",
            "Epoch 5/25\n",
            "400/400 [==============================] - 108s 269ms/step - loss: 0.6931 - acc: 0.5022 - val_loss: 0.6888 - val_acc: 0.5400\n",
            "Epoch 6/25\n",
            "400/400 [==============================] - 107s 268ms/step - loss: 0.6932 - acc: 0.5148 - val_loss: 0.6894 - val_acc: 0.5400\n",
            "Epoch 7/25\n",
            "400/400 [==============================] - 107s 268ms/step - loss: 0.6869 - acc: 0.5452 - val_loss: 0.6920 - val_acc: 0.4800\n",
            "Epoch 8/25\n",
            "400/400 [==============================] - 109s 272ms/step - loss: 0.6777 - acc: 0.5747 - val_loss: 0.6950 - val_acc: 0.5850\n",
            "Epoch 9/25\n",
            "400/400 [==============================] - 108s 271ms/step - loss: 0.6575 - acc: 0.6123 - val_loss: 0.6804 - val_acc: 0.5800\n",
            "Epoch 10/25\n",
            "400/400 [==============================] - 109s 271ms/step - loss: 0.6457 - acc: 0.6181 - val_loss: 0.6792 - val_acc: 0.5850\n",
            "Epoch 11/25\n",
            "400/400 [==============================] - 109s 271ms/step - loss: 0.6287 - acc: 0.6411 - val_loss: 0.8046 - val_acc: 0.5100\n",
            "Epoch 12/25\n",
            "400/400 [==============================] - 108s 269ms/step - loss: 0.6067 - acc: 0.6664 - val_loss: 0.7813 - val_acc: 0.5650\n",
            "Epoch 13/25\n",
            "400/400 [==============================] - 108s 271ms/step - loss: 0.5927 - acc: 0.6742 - val_loss: 0.7691 - val_acc: 0.6000\n",
            "Epoch 14/25\n",
            "400/400 [==============================] - 108s 269ms/step - loss: 0.5739 - acc: 0.6881 - val_loss: 0.7770 - val_acc: 0.5750\n",
            "Epoch 15/25\n",
            "400/400 [==============================] - 108s 269ms/step - loss: 0.5527 - acc: 0.7056 - val_loss: 0.7399 - val_acc: 0.6100\n",
            "Epoch 16/25\n",
            "400/400 [==============================] - 107s 268ms/step - loss: 0.5335 - acc: 0.7252 - val_loss: 0.9771 - val_acc: 0.6300\n",
            "Target validation accuracy (0.620000) reached !\n"
          ],
          "name": "stdout"
        }
      ]
    },
    {
      "cell_type": "code",
      "metadata": {
        "id": "DTkqNxUT5Gfv",
        "colab_type": "code",
        "colab": {}
      },
      "source": [
        "model.save('model7')\n"
      ],
      "execution_count": 0,
      "outputs": []
    },
    {
      "cell_type": "code",
      "metadata": {
        "id": "EYRhBJwXFBzS",
        "colab_type": "code",
        "outputId": "1a2f66fb-9650-48d2-f7c6-9db8fa3210d4",
        "colab": {
          "base_uri": "https://localhost:8080/",
          "height": 34
        }
      },
      "source": [
        "unknownset = test_generator.flow_from_directory('/content/drive/My Drive/Final assignment/unknown', # specify the directory (you can right click on the folder you need and copy the path)\n",
        "                                                 target_size = (sqrt_dim, sqrt_dim), # you need to check your data,\n",
        "                                                 batch_size = train_batch_size, # batch size = 5 here just for show!\n",
        "                                                 class_mode= 'categorical')"
      ],
      "execution_count": 0,
      "outputs": [
        {
          "output_type": "stream",
          "text": [
            "Found 481 images belonging to 1 classes.\n"
          ],
          "name": "stdout"
        }
      ]
    },
    {
      "cell_type": "code",
      "metadata": {
        "id": "qjnRfVMUNsLC",
        "colab_type": "code",
        "outputId": "f3ebee6c-0d18-4a28-9c47-ba4d1cf0a27a",
        "colab": {
          "base_uri": "https://localhost:8080/",
          "height": 167
        }
      },
      "source": [
        "img = image.load_img('images/*', target_size=(40, 40))"
      ],
      "execution_count": 0,
      "outputs": [
        {
          "output_type": "error",
          "ename": "NameError",
          "evalue": "ignored",
          "traceback": [
            "\u001b[0;31m---------------------------------------------------------------------------\u001b[0m",
            "\u001b[0;31mNameError\u001b[0m                                 Traceback (most recent call last)",
            "\u001b[0;32m<ipython-input-64-2dbab1aae760>\u001b[0m in \u001b[0;36m<module>\u001b[0;34m()\u001b[0m\n\u001b[0;32m----> 1\u001b[0;31m \u001b[0mimg\u001b[0m \u001b[0;34m=\u001b[0m \u001b[0mimage\u001b[0m\u001b[0;34m.\u001b[0m\u001b[0mload_img\u001b[0m\u001b[0;34m(\u001b[0m\u001b[0;34m'images/*'\u001b[0m\u001b[0;34m,\u001b[0m \u001b[0mtarget_size\u001b[0m\u001b[0;34m=\u001b[0m\u001b[0;34m(\u001b[0m\u001b[0;36m40\u001b[0m\u001b[0;34m,\u001b[0m \u001b[0;36m40\u001b[0m\u001b[0;34m)\u001b[0m\u001b[0;34m)\u001b[0m\u001b[0;34m\u001b[0m\u001b[0;34m\u001b[0m\u001b[0m\n\u001b[0m",
            "\u001b[0;31mNameError\u001b[0m: name 'image' is not defined"
          ]
        }
      ]
    },
    {
      "cell_type": "code",
      "metadata": {
        "id": "pBXAdFslEhlu",
        "colab_type": "code",
        "colab": {}
      },
      "source": [
        "from skimage.io import imread_collection\n",
        "\n",
        "#your path \n",
        "col_dir = '/content/drive/My Drive/Final assignment/unknown/unknown/*'\n",
        "\n",
        "#creating a collection with the available images\n",
        "col = imread_collection(col_dir)\n"
      ],
      "execution_count": 0,
      "outputs": []
    },
    {
      "cell_type": "code",
      "metadata": {
        "id": "ITrwwnwsTARr",
        "colab_type": "code",
        "outputId": "b4d83cc7-a4d2-4d3e-f01d-028d640a1d4f",
        "colab": {
          "base_uri": "https://localhost:8080/",
          "height": 34
        }
      },
      "source": [
        "#You have to reset or reassign the test generator\n",
        "test_datagen = ImageDataGenerator(rescale=1./255)\n",
        "\n",
        "test_generator = test_datagen.flow_from_directory('/content/drive/My Drive/Final assignment/unknown/',  # specify the directory\n",
        "                                            target_size = (sqrt_dim,sqrt_dim),\n",
        "                                            batch_size = 1, #to sample an image just once\n",
        "                                            class_mode = 'categorical',\n",
        "                                            shuffle = False)\n",
        "filenames = test_generator.filenames\n",
        "nb_samples = len(filenames)\n",
        "\n",
        "yhat = model.predict_generator(test_generator,steps = nb_samples)"
      ],
      "execution_count": 0,
      "outputs": [
        {
          "output_type": "stream",
          "text": [
            "Found 481 images belonging to 1 classes.\n"
          ],
          "name": "stdout"
        }
      ]
    },
    {
      "cell_type": "code",
      "metadata": {
        "id": "7oVnKm6PdHoC",
        "colab_type": "code",
        "outputId": "fbbba6b3-4803-4790-f974-074b698a0a0a",
        "colab": {
          "base_uri": "https://localhost:8080/",
          "height": 34
        }
      },
      "source": [
        "filenames[1]"
      ],
      "execution_count": 0,
      "outputs": [
        {
          "output_type": "execute_result",
          "data": {
            "text/plain": [
              "'unknown/003358d7a7461d8cdbe9.jpg'"
            ]
          },
          "metadata": {
            "tags": []
          },
          "execution_count": 98
        }
      ]
    },
    {
      "cell_type": "code",
      "metadata": {
        "id": "q_dAmAkdbOTP",
        "colab_type": "code",
        "colab": {}
      },
      "source": [
        "import pandas as pd\n",
        "\n",
        "names = []\n",
        "predictions=[]\n",
        "\n",
        "for i in range(0,len(filenames)):\n",
        "     names.append(filenames[i])\n",
        "\n",
        "for i in range(0,len(filenames)):\n",
        "     predictions.append(yhat[i,0])\n",
        "    \n",
        "pred = pd.DataFrame({'ID':names,'fake':predictions})"
      ],
      "execution_count": 0,
      "outputs": []
    },
    {
      "cell_type": "code",
      "metadata": {
        "id": "6MWZSXZMhudu",
        "colab_type": "code",
        "colab": {}
      },
      "source": [
        "pred.to_csv(\"predictions5.csv\",header = True,index=False)"
      ],
      "execution_count": 0,
      "outputs": []
    },
    {
      "cell_type": "code",
      "metadata": {
        "id": "dwEE9M2UhkPY",
        "colab_type": "code",
        "outputId": "b3e0d162-66ba-454c-baa9-088b38645d30",
        "colab": {
          "base_uri": "https://localhost:8080/",
          "height": 1000
        }
      },
      "source": [
        "pred"
      ],
      "execution_count": 0,
      "outputs": [
        {
          "output_type": "execute_result",
          "data": {
            "text/html": [
              "<div>\n",
              "<style scoped>\n",
              "    .dataframe tbody tr th:only-of-type {\n",
              "        vertical-align: middle;\n",
              "    }\n",
              "\n",
              "    .dataframe tbody tr th {\n",
              "        vertical-align: top;\n",
              "    }\n",
              "\n",
              "    .dataframe thead th {\n",
              "        text-align: right;\n",
              "    }\n",
              "</style>\n",
              "<table border=\"1\" class=\"dataframe\">\n",
              "  <thead>\n",
              "    <tr style=\"text-align: right;\">\n",
              "      <th></th>\n",
              "      <th>col</th>\n",
              "    </tr>\n",
              "  </thead>\n",
              "  <tbody>\n",
              "    <tr>\n",
              "      <th>0</th>\n",
              "      <td>unknown/00217efccd6f697eb937.jpg</td>\n",
              "    </tr>\n",
              "    <tr>\n",
              "      <th>1</th>\n",
              "      <td>unknown/003358d7a7461d8cdbe9.jpg</td>\n",
              "    </tr>\n",
              "    <tr>\n",
              "      <th>2</th>\n",
              "      <td>unknown/008cae7827beecd1aab3.jpg</td>\n",
              "    </tr>\n",
              "    <tr>\n",
              "      <th>3</th>\n",
              "      <td>unknown/00b75601a2272c9c8f3e.jpg</td>\n",
              "    </tr>\n",
              "    <tr>\n",
              "      <th>4</th>\n",
              "      <td>unknown/01224275d3e25f62a920.jpg</td>\n",
              "    </tr>\n",
              "    <tr>\n",
              "      <th>5</th>\n",
              "      <td>unknown/01a1a6b856bffedc304c.jpg</td>\n",
              "    </tr>\n",
              "    <tr>\n",
              "      <th>6</th>\n",
              "      <td>unknown/020c00becfcd4e7938af.jpg</td>\n",
              "    </tr>\n",
              "    <tr>\n",
              "      <th>7</th>\n",
              "      <td>unknown/045bcecab3b5f0f68836.jpg</td>\n",
              "    </tr>\n",
              "    <tr>\n",
              "      <th>8</th>\n",
              "      <td>unknown/046d3ccaf5e4888cff8f.jpg</td>\n",
              "    </tr>\n",
              "    <tr>\n",
              "      <th>9</th>\n",
              "      <td>unknown/056907b340072139457a.jpg</td>\n",
              "    </tr>\n",
              "    <tr>\n",
              "      <th>10</th>\n",
              "      <td>unknown/0616140ccf8da205dae1.jpg</td>\n",
              "    </tr>\n",
              "    <tr>\n",
              "      <th>11</th>\n",
              "      <td>unknown/06bd053d5cd7cb4ecfa0.jpg</td>\n",
              "    </tr>\n",
              "    <tr>\n",
              "      <th>12</th>\n",
              "      <td>unknown/0847ce848979b5071266.jpg</td>\n",
              "    </tr>\n",
              "    <tr>\n",
              "      <th>13</th>\n",
              "      <td>unknown/08a9b88ec64f9d4a7ea2.jpg</td>\n",
              "    </tr>\n",
              "    <tr>\n",
              "      <th>14</th>\n",
              "      <td>unknown/08d407136658f90ca09b.jpg</td>\n",
              "    </tr>\n",
              "    <tr>\n",
              "      <th>15</th>\n",
              "      <td>unknown/091a43a48d1fef10d077.jpg</td>\n",
              "    </tr>\n",
              "    <tr>\n",
              "      <th>16</th>\n",
              "      <td>unknown/09389d45c8f600eda5e1.jpg</td>\n",
              "    </tr>\n",
              "    <tr>\n",
              "      <th>17</th>\n",
              "      <td>unknown/09951d4f497fbdce0724.jpg</td>\n",
              "    </tr>\n",
              "    <tr>\n",
              "      <th>18</th>\n",
              "      <td>unknown/0a48e27b6e155160fe13.jpg</td>\n",
              "    </tr>\n",
              "    <tr>\n",
              "      <th>19</th>\n",
              "      <td>unknown/0aca4f842d0cdd5e2220.jpg</td>\n",
              "    </tr>\n",
              "    <tr>\n",
              "      <th>20</th>\n",
              "      <td>unknown/0ae51c69b77794df5bf8.jpg</td>\n",
              "    </tr>\n",
              "    <tr>\n",
              "      <th>21</th>\n",
              "      <td>unknown/0b40cdb00b43ea106e79.jpg</td>\n",
              "    </tr>\n",
              "    <tr>\n",
              "      <th>22</th>\n",
              "      <td>unknown/0b7362925433b426b994.jpg</td>\n",
              "    </tr>\n",
              "    <tr>\n",
              "      <th>23</th>\n",
              "      <td>unknown/0bdda3be627302b14edc.jpg</td>\n",
              "    </tr>\n",
              "    <tr>\n",
              "      <th>24</th>\n",
              "      <td>unknown/0c03ef95d59620ea36ed.jpg</td>\n",
              "    </tr>\n",
              "    <tr>\n",
              "      <th>25</th>\n",
              "      <td>unknown/0c36bb35533789e99c2e.jpg</td>\n",
              "    </tr>\n",
              "    <tr>\n",
              "      <th>26</th>\n",
              "      <td>unknown/0cf65c5771d3bbd394cc.jpg</td>\n",
              "    </tr>\n",
              "    <tr>\n",
              "      <th>27</th>\n",
              "      <td>unknown/0cfe523c770b7ec905dd.jpg</td>\n",
              "    </tr>\n",
              "    <tr>\n",
              "      <th>28</th>\n",
              "      <td>unknown/0d204ff575d2690f35e3.jpg</td>\n",
              "    </tr>\n",
              "    <tr>\n",
              "      <th>29</th>\n",
              "      <td>unknown/0d36dd162e2aed48c972.jpg</td>\n",
              "    </tr>\n",
              "    <tr>\n",
              "      <th>...</th>\n",
              "      <td>...</td>\n",
              "    </tr>\n",
              "    <tr>\n",
              "      <th>451</th>\n",
              "      <td>unknown/efd8e62efc02812664be.jpg</td>\n",
              "    </tr>\n",
              "    <tr>\n",
              "      <th>452</th>\n",
              "      <td>unknown/f03de53b8026cb81fb1a.jpg</td>\n",
              "    </tr>\n",
              "    <tr>\n",
              "      <th>453</th>\n",
              "      <td>unknown/f09811ad3ae292a07e81.jpg</td>\n",
              "    </tr>\n",
              "    <tr>\n",
              "      <th>454</th>\n",
              "      <td>unknown/f1e8bae767aa2a06d2fb.jpg</td>\n",
              "    </tr>\n",
              "    <tr>\n",
              "      <th>455</th>\n",
              "      <td>unknown/f20dbad0f985fc682d54.jpg</td>\n",
              "    </tr>\n",
              "    <tr>\n",
              "      <th>456</th>\n",
              "      <td>unknown/f2621e0764597fde65a0.jpg</td>\n",
              "    </tr>\n",
              "    <tr>\n",
              "      <th>457</th>\n",
              "      <td>unknown/f381739f098f962fca67.jpg</td>\n",
              "    </tr>\n",
              "    <tr>\n",
              "      <th>458</th>\n",
              "      <td>unknown/f39efc4d355beb464afd.jpg</td>\n",
              "    </tr>\n",
              "    <tr>\n",
              "      <th>459</th>\n",
              "      <td>unknown/f427e4f2c6ed25052984.jpg</td>\n",
              "    </tr>\n",
              "    <tr>\n",
              "      <th>460</th>\n",
              "      <td>unknown/f467b6000b34533104c6.jpg</td>\n",
              "    </tr>\n",
              "    <tr>\n",
              "      <th>461</th>\n",
              "      <td>unknown/f4ff1b2db465e95e8af1.jpg</td>\n",
              "    </tr>\n",
              "    <tr>\n",
              "      <th>462</th>\n",
              "      <td>unknown/f537258a9143a591eaa4.jpg</td>\n",
              "    </tr>\n",
              "    <tr>\n",
              "      <th>463</th>\n",
              "      <td>unknown/f5aa72aa77528d69e41d.jpg</td>\n",
              "    </tr>\n",
              "    <tr>\n",
              "      <th>464</th>\n",
              "      <td>unknown/f60b2caf927164287acc.jpg</td>\n",
              "    </tr>\n",
              "    <tr>\n",
              "      <th>465</th>\n",
              "      <td>unknown/f69533d76a659f4e7ccf.jpg</td>\n",
              "    </tr>\n",
              "    <tr>\n",
              "      <th>466</th>\n",
              "      <td>unknown/f7c721742c86ffec64e9.jpg</td>\n",
              "    </tr>\n",
              "    <tr>\n",
              "      <th>467</th>\n",
              "      <td>unknown/f8112c58b54784000053.jpg</td>\n",
              "    </tr>\n",
              "    <tr>\n",
              "      <th>468</th>\n",
              "      <td>unknown/f9454d6da262850d6d3a.jpg</td>\n",
              "    </tr>\n",
              "    <tr>\n",
              "      <th>469</th>\n",
              "      <td>unknown/f95d52ebe32b331ec361.jpg</td>\n",
              "    </tr>\n",
              "    <tr>\n",
              "      <th>470</th>\n",
              "      <td>unknown/f991ac31b402528a0fb4.jpg</td>\n",
              "    </tr>\n",
              "    <tr>\n",
              "      <th>471</th>\n",
              "      <td>unknown/fa1127b0a7fcd98af385.jpg</td>\n",
              "    </tr>\n",
              "    <tr>\n",
              "      <th>472</th>\n",
              "      <td>unknown/fa96c00d587eac218b8b.jpg</td>\n",
              "    </tr>\n",
              "    <tr>\n",
              "      <th>473</th>\n",
              "      <td>unknown/fab5b6a96ad9e75f48c8.jpg</td>\n",
              "    </tr>\n",
              "    <tr>\n",
              "      <th>474</th>\n",
              "      <td>unknown/fb4f013fd7ee08a4a9bb.jpg</td>\n",
              "    </tr>\n",
              "    <tr>\n",
              "      <th>475</th>\n",
              "      <td>unknown/fbecda8e838fcee4dd20.jpg</td>\n",
              "    </tr>\n",
              "    <tr>\n",
              "      <th>476</th>\n",
              "      <td>unknown/fc1ba171d3a63345f516.jpg</td>\n",
              "    </tr>\n",
              "    <tr>\n",
              "      <th>477</th>\n",
              "      <td>unknown/fd2807a7befa288f3321.jpg</td>\n",
              "    </tr>\n",
              "    <tr>\n",
              "      <th>478</th>\n",
              "      <td>unknown/fd5737122300961d1bca.jpg</td>\n",
              "    </tr>\n",
              "    <tr>\n",
              "      <th>479</th>\n",
              "      <td>unknown/fd79ce851d0af59df9c3.jpg</td>\n",
              "    </tr>\n",
              "    <tr>\n",
              "      <th>480</th>\n",
              "      <td>unknown/fe8fcc2796872d12ff0d.jpg</td>\n",
              "    </tr>\n",
              "  </tbody>\n",
              "</table>\n",
              "<p>481 rows × 1 columns</p>\n",
              "</div>"
            ],
            "text/plain": [
              "                                  col\n",
              "0    unknown/00217efccd6f697eb937.jpg\n",
              "1    unknown/003358d7a7461d8cdbe9.jpg\n",
              "2    unknown/008cae7827beecd1aab3.jpg\n",
              "3    unknown/00b75601a2272c9c8f3e.jpg\n",
              "4    unknown/01224275d3e25f62a920.jpg\n",
              "5    unknown/01a1a6b856bffedc304c.jpg\n",
              "6    unknown/020c00becfcd4e7938af.jpg\n",
              "7    unknown/045bcecab3b5f0f68836.jpg\n",
              "8    unknown/046d3ccaf5e4888cff8f.jpg\n",
              "9    unknown/056907b340072139457a.jpg\n",
              "10   unknown/0616140ccf8da205dae1.jpg\n",
              "11   unknown/06bd053d5cd7cb4ecfa0.jpg\n",
              "12   unknown/0847ce848979b5071266.jpg\n",
              "13   unknown/08a9b88ec64f9d4a7ea2.jpg\n",
              "14   unknown/08d407136658f90ca09b.jpg\n",
              "15   unknown/091a43a48d1fef10d077.jpg\n",
              "16   unknown/09389d45c8f600eda5e1.jpg\n",
              "17   unknown/09951d4f497fbdce0724.jpg\n",
              "18   unknown/0a48e27b6e155160fe13.jpg\n",
              "19   unknown/0aca4f842d0cdd5e2220.jpg\n",
              "20   unknown/0ae51c69b77794df5bf8.jpg\n",
              "21   unknown/0b40cdb00b43ea106e79.jpg\n",
              "22   unknown/0b7362925433b426b994.jpg\n",
              "23   unknown/0bdda3be627302b14edc.jpg\n",
              "24   unknown/0c03ef95d59620ea36ed.jpg\n",
              "25   unknown/0c36bb35533789e99c2e.jpg\n",
              "26   unknown/0cf65c5771d3bbd394cc.jpg\n",
              "27   unknown/0cfe523c770b7ec905dd.jpg\n",
              "28   unknown/0d204ff575d2690f35e3.jpg\n",
              "29   unknown/0d36dd162e2aed48c972.jpg\n",
              "..                                ...\n",
              "451  unknown/efd8e62efc02812664be.jpg\n",
              "452  unknown/f03de53b8026cb81fb1a.jpg\n",
              "453  unknown/f09811ad3ae292a07e81.jpg\n",
              "454  unknown/f1e8bae767aa2a06d2fb.jpg\n",
              "455  unknown/f20dbad0f985fc682d54.jpg\n",
              "456  unknown/f2621e0764597fde65a0.jpg\n",
              "457  unknown/f381739f098f962fca67.jpg\n",
              "458  unknown/f39efc4d355beb464afd.jpg\n",
              "459  unknown/f427e4f2c6ed25052984.jpg\n",
              "460  unknown/f467b6000b34533104c6.jpg\n",
              "461  unknown/f4ff1b2db465e95e8af1.jpg\n",
              "462  unknown/f537258a9143a591eaa4.jpg\n",
              "463  unknown/f5aa72aa77528d69e41d.jpg\n",
              "464  unknown/f60b2caf927164287acc.jpg\n",
              "465  unknown/f69533d76a659f4e7ccf.jpg\n",
              "466  unknown/f7c721742c86ffec64e9.jpg\n",
              "467  unknown/f8112c58b54784000053.jpg\n",
              "468  unknown/f9454d6da262850d6d3a.jpg\n",
              "469  unknown/f95d52ebe32b331ec361.jpg\n",
              "470  unknown/f991ac31b402528a0fb4.jpg\n",
              "471  unknown/fa1127b0a7fcd98af385.jpg\n",
              "472  unknown/fa96c00d587eac218b8b.jpg\n",
              "473  unknown/fab5b6a96ad9e75f48c8.jpg\n",
              "474  unknown/fb4f013fd7ee08a4a9bb.jpg\n",
              "475  unknown/fbecda8e838fcee4dd20.jpg\n",
              "476  unknown/fc1ba171d3a63345f516.jpg\n",
              "477  unknown/fd2807a7befa288f3321.jpg\n",
              "478  unknown/fd5737122300961d1bca.jpg\n",
              "479  unknown/fd79ce851d0af59df9c3.jpg\n",
              "480  unknown/fe8fcc2796872d12ff0d.jpg\n",
              "\n",
              "[481 rows x 1 columns]"
            ]
          },
          "metadata": {
            "tags": []
          },
          "execution_count": 113
        }
      ]
    },
    {
      "cell_type": "code",
      "metadata": {
        "id": "etnKhADoYQfK",
        "colab_type": "code",
        "outputId": "2483b07b-2ac4-466a-f90b-598ee3346815",
        "colab": {
          "base_uri": "https://localhost:8080/",
          "height": 334
        }
      },
      "source": [
        "model.predict(col[1])"
      ],
      "execution_count": 0,
      "outputs": [
        {
          "output_type": "error",
          "ename": "ValueError",
          "evalue": "ignored",
          "traceback": [
            "\u001b[0;31m---------------------------------------------------------------------------\u001b[0m",
            "\u001b[0;31mValueError\u001b[0m                                Traceback (most recent call last)",
            "\u001b[0;32m<ipython-input-87-e8368582ea71>\u001b[0m in \u001b[0;36m<module>\u001b[0;34m()\u001b[0m\n\u001b[0;32m----> 1\u001b[0;31m \u001b[0mmodel\u001b[0m\u001b[0;34m.\u001b[0m\u001b[0mpredict\u001b[0m\u001b[0;34m(\u001b[0m\u001b[0mcol\u001b[0m\u001b[0;34m[\u001b[0m\u001b[0;36m1\u001b[0m\u001b[0;34m]\u001b[0m\u001b[0;34m)\u001b[0m\u001b[0;34m\u001b[0m\u001b[0;34m\u001b[0m\u001b[0m\n\u001b[0m",
            "\u001b[0;32m/usr/local/lib/python3.6/dist-packages/keras/engine/training.py\u001b[0m in \u001b[0;36mpredict\u001b[0;34m(self, x, batch_size, verbose, steps)\u001b[0m\n\u001b[1;32m   1147\u001b[0m                              'argument.')\n\u001b[1;32m   1148\u001b[0m         \u001b[0;31m# Validate user data.\u001b[0m\u001b[0;34m\u001b[0m\u001b[0;34m\u001b[0m\u001b[0;34m\u001b[0m\u001b[0m\n\u001b[0;32m-> 1149\u001b[0;31m         \u001b[0mx\u001b[0m\u001b[0;34m,\u001b[0m \u001b[0m_\u001b[0m\u001b[0;34m,\u001b[0m \u001b[0m_\u001b[0m \u001b[0;34m=\u001b[0m \u001b[0mself\u001b[0m\u001b[0;34m.\u001b[0m\u001b[0m_standardize_user_data\u001b[0m\u001b[0;34m(\u001b[0m\u001b[0mx\u001b[0m\u001b[0;34m)\u001b[0m\u001b[0;34m\u001b[0m\u001b[0;34m\u001b[0m\u001b[0m\n\u001b[0m\u001b[1;32m   1150\u001b[0m         \u001b[0;32mif\u001b[0m \u001b[0mself\u001b[0m\u001b[0;34m.\u001b[0m\u001b[0mstateful\u001b[0m\u001b[0;34m:\u001b[0m\u001b[0;34m\u001b[0m\u001b[0;34m\u001b[0m\u001b[0m\n\u001b[1;32m   1151\u001b[0m             \u001b[0;32mif\u001b[0m \u001b[0mx\u001b[0m\u001b[0;34m[\u001b[0m\u001b[0;36m0\u001b[0m\u001b[0;34m]\u001b[0m\u001b[0;34m.\u001b[0m\u001b[0mshape\u001b[0m\u001b[0;34m[\u001b[0m\u001b[0;36m0\u001b[0m\u001b[0;34m]\u001b[0m \u001b[0;34m>\u001b[0m \u001b[0mbatch_size\u001b[0m \u001b[0;32mand\u001b[0m \u001b[0mx\u001b[0m\u001b[0;34m[\u001b[0m\u001b[0;36m0\u001b[0m\u001b[0;34m]\u001b[0m\u001b[0;34m.\u001b[0m\u001b[0mshape\u001b[0m\u001b[0;34m[\u001b[0m\u001b[0;36m0\u001b[0m\u001b[0;34m]\u001b[0m \u001b[0;34m%\u001b[0m \u001b[0mbatch_size\u001b[0m \u001b[0;34m!=\u001b[0m \u001b[0;36m0\u001b[0m\u001b[0;34m:\u001b[0m\u001b[0;34m\u001b[0m\u001b[0;34m\u001b[0m\u001b[0m\n",
            "\u001b[0;32m/usr/local/lib/python3.6/dist-packages/keras/engine/training.py\u001b[0m in \u001b[0;36m_standardize_user_data\u001b[0;34m(self, x, y, sample_weight, class_weight, check_array_lengths, batch_size)\u001b[0m\n\u001b[1;32m    749\u001b[0m             \u001b[0mfeed_input_shapes\u001b[0m\u001b[0;34m,\u001b[0m\u001b[0;34m\u001b[0m\u001b[0;34m\u001b[0m\u001b[0m\n\u001b[1;32m    750\u001b[0m             \u001b[0mcheck_batch_axis\u001b[0m\u001b[0;34m=\u001b[0m\u001b[0;32mFalse\u001b[0m\u001b[0;34m,\u001b[0m  \u001b[0;31m# Don't enforce the batch size.\u001b[0m\u001b[0;34m\u001b[0m\u001b[0;34m\u001b[0m\u001b[0m\n\u001b[0;32m--> 751\u001b[0;31m             exception_prefix='input')\n\u001b[0m\u001b[1;32m    752\u001b[0m \u001b[0;34m\u001b[0m\u001b[0m\n\u001b[1;32m    753\u001b[0m         \u001b[0;32mif\u001b[0m \u001b[0my\u001b[0m \u001b[0;32mis\u001b[0m \u001b[0;32mnot\u001b[0m \u001b[0;32mNone\u001b[0m\u001b[0;34m:\u001b[0m\u001b[0;34m\u001b[0m\u001b[0;34m\u001b[0m\u001b[0m\n",
            "\u001b[0;32m/usr/local/lib/python3.6/dist-packages/keras/engine/training_utils.py\u001b[0m in \u001b[0;36mstandardize_input_data\u001b[0;34m(data, names, shapes, check_batch_axis, exception_prefix)\u001b[0m\n\u001b[1;32m    126\u001b[0m                         \u001b[0;34m': expected '\u001b[0m \u001b[0;34m+\u001b[0m \u001b[0mnames\u001b[0m\u001b[0;34m[\u001b[0m\u001b[0mi\u001b[0m\u001b[0;34m]\u001b[0m \u001b[0;34m+\u001b[0m \u001b[0;34m' to have '\u001b[0m \u001b[0;34m+\u001b[0m\u001b[0;34m\u001b[0m\u001b[0;34m\u001b[0m\u001b[0m\n\u001b[1;32m    127\u001b[0m                         \u001b[0mstr\u001b[0m\u001b[0;34m(\u001b[0m\u001b[0mlen\u001b[0m\u001b[0;34m(\u001b[0m\u001b[0mshape\u001b[0m\u001b[0;34m)\u001b[0m\u001b[0;34m)\u001b[0m \u001b[0;34m+\u001b[0m \u001b[0;34m' dimensions, but got array '\u001b[0m\u001b[0;34m\u001b[0m\u001b[0;34m\u001b[0m\u001b[0m\n\u001b[0;32m--> 128\u001b[0;31m                         'with shape ' + str(data_shape))\n\u001b[0m\u001b[1;32m    129\u001b[0m                 \u001b[0;32mif\u001b[0m \u001b[0;32mnot\u001b[0m \u001b[0mcheck_batch_axis\u001b[0m\u001b[0;34m:\u001b[0m\u001b[0;34m\u001b[0m\u001b[0;34m\u001b[0m\u001b[0m\n\u001b[1;32m    130\u001b[0m                     \u001b[0mdata_shape\u001b[0m \u001b[0;34m=\u001b[0m \u001b[0mdata_shape\u001b[0m\u001b[0;34m[\u001b[0m\u001b[0;36m1\u001b[0m\u001b[0;34m:\u001b[0m\u001b[0;34m]\u001b[0m\u001b[0;34m\u001b[0m\u001b[0;34m\u001b[0m\u001b[0m\n",
            "\u001b[0;31mValueError\u001b[0m: Error when checking input: expected conv2d_41_input to have 4 dimensions, but got array with shape (600, 600, 3)"
          ]
        }
      ]
    }
  ]
}